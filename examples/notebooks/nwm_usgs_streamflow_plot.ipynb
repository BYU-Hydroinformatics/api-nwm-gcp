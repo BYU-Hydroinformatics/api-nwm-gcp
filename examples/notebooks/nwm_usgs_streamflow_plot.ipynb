{
  "cells": [
    {
      "cell_type": "markdown",
      "metadata": {
        "colab_type": "text",
        "id": "view-in-github"
      },
      "source": [
        "<a href=\"https://colab.research.google.com/gist/KMarkert/d9fb5074fe96e717e9aa7c2e368788cb/nwm_usgs_streamflow_plots.ipynb\" target=\"_parent\"><img src=\"https://colab.research.google.com/assets/colab-badge.svg\" alt=\"Open In Colab\"/></a>"
      ]
    },
    {
      "cell_type": "code",
      "execution_count": null,
      "metadata": {
        "id": "YSt39lSixeiB"
      },
      "outputs": [],
      "source": [
        "# install the USGS package for acquiring gauge data\n",
        "!pip install --upgrade dataretrieval --quiet"
      ]
    },
    {
      "cell_type": "code",
      "execution_count": null,
      "metadata": {
        "id": "k1JCQ_xMuwn_"
      },
      "outputs": [],
      "source": [
        "import io\n",
        "import json\n",
        "import matplotlib.pyplot as plt\n",
        "import numpy as np\n",
        "import pandas as pd\n",
        "import seaborn as sns\n",
        "import requests\n",
        "\n",
        "import dataretrieval.nwis as nwis\n",
        "\n"
      ]
    },
    {
      "cell_type": "code",
      "execution_count": null,
      "metadata": {
        "id": "-Lx-0TKeu_3v"
      },
      "outputs": [],
      "source": [
        "# define the reach feature id to run the queries for\n",
        "reach_id = 15039097"
      ]
    },
    {
      "cell_type": "code",
      "execution_count": null,
      "metadata": {
        "id": "CJEGCda8vBsL"
      },
      "outputs": [],
      "source": [
        "API_KEY = 'YOUR_API_KEY'\n",
        "API_URL = 'API_ENDPOINT'\n",
        "ANALYSIS_ASSIM_ENDPOINT = f'{API_URL}/analysis-assim'"
      ]
    },
    {
      "cell_type": "code",
      "execution_count": null,
      "metadata": {
        "id": "B4kVxdO2xUem"
      },
      "outputs": [],
      "source": [
        "header = {\n",
        "    'x-api-key': API_KEY\n",
        "}\n",
        "\n",
        "params = {\n",
        "    'comids': reach_id,\n",
        "    'output_format': 'csv',\n",
        "}"
      ]
    },
    {
      "cell_type": "code",
      "execution_count": null,
      "metadata": {
        "id": "wB7LKbu_xZQ9"
      },
      "outputs": [],
      "source": [
        "def get_analysis_assim():\n",
        "    r = requests.get(ANALYSIS_ASSIM_ENDPOINT, params=params, headers=header)\n",
        "    if r.status_code == 200:\n",
        "        df = pd.read_csv(io.StringIO(r.text))\n",
        "    else:\n",
        "        raise requests.exceptions.HTTPError(r.text)\n",
        "    return df"
      ]
    },
    {
      "cell_type": "code",
      "execution_count": null,
      "metadata": {
        "id": "eWGO8Jfbev8-"
      },
      "outputs": [],
      "source": [
        "df = get_analysis_assim()\n",
        "df.index = pd.to_datetime(df['time'])"
      ]
    },
    {
      "cell_type": "code",
      "execution_count": null,
      "metadata": {
        "id": "KyBHYeWxewiO"
      },
      "outputs": [],
      "source": [
        "df.head()"
      ]
    },
    {
      "cell_type": "code",
      "execution_count": null,
      "metadata": {
        "id": "2yIA_qoOg8tu"
      },
      "outputs": [],
      "source": [
        "# specify the USGS site code for which we want data.\n",
        "# this site corresponds with the NWM feature id we are using\n",
        "site = '11425500'"
      ]
    },
    {
      "cell_type": "code",
      "execution_count": null,
      "metadata": {
        "id": "lmjVzEQmgWDZ"
      },
      "outputs": [],
      "source": [
        "# get the daily values for the last 40 years from the site with the parameter code 00060 (discharge)\n",
        "gauge = nwis.get_record(sites=site, service='dv', start='1980-01-01',parameterCd='00060')"
      ]
    },
    {
      "cell_type": "code",
      "execution_count": null,
      "metadata": {
        "id": "q9gCsp95g_nE"
      },
      "outputs": [],
      "source": [
        "# convert the cubic feet per second to cubic meters per second\n",
        "# and add a new column for cms discharge\n",
        "gauge['streamflow'] = gauge['00060_Mean'] * 0.02832"
      ]
    },
    {
      "cell_type": "code",
      "execution_count": null,
      "metadata": {
        "id": "F1IrcbY2hC9f"
      },
      "outputs": [],
      "source": [
        "# select the time frame from the NWM data\n",
        "gauge_sel = gauge.loc[gauge.index >= '2018-09-01']"
      ]
    },
    {
      "cell_type": "code",
      "execution_count": null,
      "metadata": {
        "id": "nt4A34dij93G"
      },
      "outputs": [],
      "source": [
        "fig, ax = plt.subplots()\n",
        "ax.plot(gauge_sel['streamflow'])\n",
        "ax.plot(df['streamflow'])"
      ]
    },
    {
      "cell_type": "code",
      "execution_count": null,
      "metadata": {
        "id": "HLlYjJMakGzz"
      },
      "outputs": [],
      "source": []
    }
  ],
  "metadata": {
    "colab": {
      "authorship_tag": "ABX9TyNf+6xtDFAWwBLMFvRiaFrq",
      "include_colab_link": true,
      "private_outputs": true,
      "provenance": []
    },
    "kernelspec": {
      "display_name": "Python 3",
      "name": "python3"
    },
    "language_info": {
      "name": "python"
    }
  },
  "nbformat": 4,
  "nbformat_minor": 0
}
