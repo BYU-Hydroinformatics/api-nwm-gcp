{
  "cells": [
    {
      "cell_type": "code",
      "execution_count": null,
      "metadata": {
        "id": "s4tfBXqwKj4H"
      },
      "outputs": [],
      "source": [
        "!pip install --quiet duckdb duckdb-engine kerchunk zarr"
      ]
    },
    {
      "cell_type": "code",
      "execution_count": null,
      "metadata": {
        "id": "oFEcZ7q9jMyw"
      },
      "outputs": [],
      "source": [
        "import timeit\n",
        "import numpy as np\n",
        "import matplotlib.pyplot as plt\n",
        "import fsspec\n"
      ]
    },
    {
      "cell_type": "code",
      "execution_count": null,
      "metadata": {
        "id": "VFYnCa-H-IcW"
      },
      "outputs": [],
      "source": [
        "reach_ids = [\n",
        "    7978071,\n",
        "    15059811,\n",
        "    15039097,\n",
        "    15039077,\n",
        "    15038825,\n",
        "    15034617,\n",
        "    15034581,\n",
        "    15034577,\n",
        "    15034485,\n",
        "    15034469,\n",
        "    15034467,\n",
        "    15034459,\n",
        "    15034409,\n",
        "]"
      ]
    },
    {
      "cell_type": "code",
      "execution_count": null,
      "metadata": {
        "id": "j3DjasAtnHuV"
      },
      "outputs": [],
      "source": [
        "repeat = 20"
      ]
    },
    {
      "cell_type": "code",
      "execution_count": null,
      "metadata": {
        "id": "M4625-YYGllz"
      },
      "outputs": [],
      "source": [
        "reach_id = reach_ids[2]"
      ]
    },
    {
      "cell_type": "code",
      "execution_count": null,
      "metadata": {
        "id": "pBBNstjvgWPk"
      },
      "outputs": [],
      "source": [
        "reference_time = '2023-01-01'\n",
        "ensemble_member = 1"
      ]
    },
    {
      "cell_type": "markdown",
      "metadata": {
        "id": "nrKQ79R2G_X9"
      },
      "source": [
        "## DuckDB"
      ]
    },
    {
      "cell_type": "code",
      "execution_count": null,
      "metadata": {
        "id": "0M8mXcXL-ikG"
      },
      "outputs": [],
      "source": [
        "import duckdb"
      ]
    },
    {
      "cell_type": "code",
      "execution_count": null,
      "metadata": {
        "id": "QGbZ72bsJSsW"
      },
      "outputs": [],
      "source": [
        "# Import jupysql Jupyter extension to create SQL cells\n",
        "%load_ext sql"
      ]
    },
    {
      "cell_type": "code",
      "execution_count": null,
      "metadata": {
        "id": "OADDqo6MKW7v"
      },
      "outputs": [],
      "source": [
        "%sql duckdb:///:default:"
      ]
    },
    {
      "cell_type": "code",
      "execution_count": null,
      "metadata": {
        "id": "lK45VFv-JT9e"
      },
      "outputs": [],
      "source": [
        "%%sql\n",
        "INSTALL httpfs;\n",
        "LOAD httpfs;"
      ]
    },
    {
      "cell_type": "code",
      "execution_count": null,
      "metadata": {
        "id": "1FSUf5lrLxoa"
      },
      "outputs": [],
      "source": [
        "%sql SET s3_endpoint='storage.googleapis.com';"
      ]
    },
    {
      "cell_type": "code",
      "execution_count": null,
      "metadata": {
        "id": "smw_i9NtJvW4"
      },
      "outputs": [],
      "source": [
        "def get_duckdb():\n",
        "    # read the result of an arbitrary SQL query to a Pandas DataFrame\n",
        "    results = duckdb.sql(f\"\"\"\n",
        "    SELECT\n",
        "        time,\n",
        "        streamflow,\n",
        "        velocity,\n",
        "        feature_id\n",
        "    FROM read_parquet(\n",
        "        's3://national-water-model-parq/channel_rt/long_range_mem{ensemble_member}/nwm.{reference_time.replace('-','')}.t00z.long_range.channel_rt_{ensemble_member}.f*.conus.parq.gz'\n",
        "    )\n",
        "    WHERE\n",
        "        feature_id = {reach_id}\n",
        "    ORDER BY\n",
        "        time;\n",
        "    \"\"\").df()\n",
        "    return results"
      ]
    },
    {
      "cell_type": "code",
      "execution_count": null,
      "metadata": {
        "id": "woPbUYCnHJoZ"
      },
      "outputs": [],
      "source": [
        "%time streamflow = get_duckdb()"
      ]
    },
    {
      "cell_type": "code",
      "execution_count": null,
      "metadata": {
        "id": "wC34wKr4_33N"
      },
      "outputs": [],
      "source": [
        "streamflow['streamflow'].plot()"
      ]
    },
    {
      "cell_type": "code",
      "execution_count": null,
      "metadata": {
        "id": "bkLT6aV9SDCS"
      },
      "outputs": [],
      "source": [
        "duckdb_times = timeit.repeat(get_duckdb, number=1, repeat=repeat)"
      ]
    },
    {
      "cell_type": "markdown",
      "metadata": {
        "id": "QXNDdPrey_Gb"
      },
      "source": [
        "## netCDF native"
      ]
    },
    {
      "cell_type": "code",
      "execution_count": null,
      "metadata": {
        "id": "grBuvzUfModh"
      },
      "outputs": [],
      "source": [
        "import xarray as xr"
      ]
    },
    {
      "cell_type": "code",
      "execution_count": null,
      "metadata": {
        "id": "JdcWZraWzFS5"
      },
      "outputs": [],
      "source": [
        "fs = fsspec.filesystem('gcs', anon=True, skip_incstance_cache=True)"
      ]
    },
    {
      "cell_type": "code",
      "execution_count": null,
      "metadata": {
        "id": "FIIcqal2zFP5"
      },
      "outputs": [],
      "source": [
        "flist = fs.glob(f\"national-water-model/nwm.{reference_time.replace('-','')}/long_range_mem{ensemble_member}/nwm.t00z.long_range.channel_rt_{ensemble_member}.f*.conus.nc\")"
      ]
    },
    {
      "cell_type": "code",
      "execution_count": null,
      "metadata": {
        "id": "_ziVmwXBzFM5"
      },
      "outputs": [],
      "source": [
        "uris = [\"gs://\" + f for f in flist]"
      ]
    },
    {
      "cell_type": "code",
      "execution_count": null,
      "metadata": {
        "id": "aBo6BXv4zFI4"
      },
      "outputs": [],
      "source": [
        "def get_netcdf():\n",
        "  datasets = []\n",
        "  for uri in uris:\n",
        "    with fsspec.open(uri,'rb') as f:\n",
        "      ds_i = xr.open_dataset(f).sel(feature_id = reach_id )[['velocity', 'streamflow','feature_id','time']].compute()\n",
        "      datasets.append(ds_i)\n",
        "\n",
        "  ds = xr.concat(datasets, dim='time')\n",
        "\n",
        "  return ds.compute().to_dataframe()"
      ]
    },
    {
      "cell_type": "code",
      "execution_count": null,
      "metadata": {
        "id": "xNORT5-10JAj"
      },
      "outputs": [],
      "source": [
        "netcdf_times = timeit.repeat(get_netcdf, number=1, repeat=repeat)"
      ]
    },
    {
      "cell_type": "markdown",
      "metadata": {
        "id": "gUvOxfiPUVir"
      },
      "source": [
        "## Kerchunking netCDF"
      ]
    },
    {
      "cell_type": "code",
      "execution_count": null,
      "metadata": {
        "id": "hbzLmRQpM_zT"
      },
      "outputs": [],
      "source": [
        "from kerchunk.hdf import SingleHdf5ToZarr\n",
        "from kerchunk.combine import MultiZarrToZarr"
      ]
    },
    {
      "cell_type": "code",
      "execution_count": null,
      "metadata": {
        "id": "D7tXxbxRZ-gH"
      },
      "outputs": [],
      "source": [
        "fs = fsspec.filesystem('gcs', anon=True, skip_incstance_cache=True)"
      ]
    },
    {
      "cell_type": "code",
      "execution_count": null,
      "metadata": {
        "id": "5qOqgQ8ZaHej"
      },
      "outputs": [],
      "source": [
        "best_hour='f001'\n",
        "var = 'channel_rt'"
      ]
    },
    {
      "cell_type": "code",
      "execution_count": null,
      "metadata": {
        "id": "kTiUcm8MaJwB"
      },
      "outputs": [],
      "source": [
        "flist = fs.glob(f\"national-water-model/nwm.{reference_time.replace('-','')}/long_range_mem{ensemble_member}/nwm.t00z.long_range.channel_rt_{ensemble_member}.f*.conus.nc\")"
      ]
    },
    {
      "cell_type": "code",
      "execution_count": null,
      "metadata": {
        "id": "W8D0OTAtm9Nx"
      },
      "outputs": [],
      "source": [
        "urls = [\"gs://\" + f for f in flist]"
      ]
    },
    {
      "cell_type": "code",
      "execution_count": null,
      "metadata": {
        "id": "C9M1wjdLgSMy"
      },
      "outputs": [],
      "source": [
        "def gen_kerchunk(u):\n",
        "    with fsspec.open(u,'rb') as infile:\n",
        "        h5chunks = SingleHdf5ToZarr(infile, u, inline_threshold=300)\n",
        "        return h5chunks.translate()"
      ]
    },
    {
      "cell_type": "code",
      "execution_count": null,
      "metadata": {
        "id": "MQtkyK1doTBX"
      },
      "outputs": [],
      "source": [
        "%time results = list(map(gen_kerchunk, urls))"
      ]
    },
    {
      "cell_type": "code",
      "execution_count": null,
      "metadata": {
        "id": "E5gdCJT-nZ3T"
      },
      "outputs": [],
      "source": [
        "mzz = MultiZarrToZarr(\n",
        "    results,\n",
        "    remote_protocol=\"gcs\",\n",
        "    remote_options={'anon': True},\n",
        "    concat_dims=[\"time\"]\n",
        ")"
      ]
    },
    {
      "cell_type": "code",
      "execution_count": null,
      "metadata": {
        "id": "YOqETS7rr4cp"
      },
      "outputs": [],
      "source": [
        "kerchunk_result = mzz.translate()"
      ]
    },
    {
      "cell_type": "code",
      "execution_count": null,
      "metadata": {
        "id": "YlrNwvynrV3M"
      },
      "outputs": [],
      "source": [
        "fs = fsspec.filesystem(\"reference\", fo=kerchunk_result,\n",
        "                       remote_protocol='gs', remote_options={'anon':True})\n",
        "\n",
        "m = fs.get_mapper(\"\")"
      ]
    },
    {
      "cell_type": "code",
      "execution_count": null,
      "metadata": {
        "id": "zTCgTdo4p37v"
      },
      "outputs": [],
      "source": [
        "def get_kerchunk():\n",
        "    ds = xr.open_dataset(\n",
        "        m,\n",
        "        engine=\"zarr\",\n",
        "        consolidated=False\n",
        "    )\n",
        "    ds = ds.sel(feature_id = reach_id)[['velocity', 'streamflow','feature_id']]\n",
        "    return ds.compute().to_dataframe()"
      ]
    },
    {
      "cell_type": "code",
      "execution_count": null,
      "metadata": {
        "id": "rNIk1r_-uZHr"
      },
      "outputs": [],
      "source": [
        "%time ds = get_kerchunk()"
      ]
    },
    {
      "cell_type": "code",
      "execution_count": null,
      "metadata": {
        "id": "emI830FNscPN"
      },
      "outputs": [],
      "source": [
        "ds"
      ]
    },
    {
      "cell_type": "code",
      "execution_count": null,
      "metadata": {
        "id": "gNyWXMGOqMG6"
      },
      "outputs": [],
      "source": [
        "kerchunk_times = timeit.repeat(get_kerchunk, number=1, repeat=repeat)"
      ]
    },
    {
      "cell_type": "markdown",
      "metadata": {
        "id": "wbb0zMGB0vhb"
      },
      "source": [
        "## NWM API"
      ]
    },
    {
      "cell_type": "code",
      "execution_count": null,
      "metadata": {
        "id": "_Q8IT6fkNGU2"
      },
      "outputs": [],
      "source": [
        "import pandas as pd\n",
        "import requests\n",
        "from io import StringIO"
      ]
    },
    {
      "cell_type": "code",
      "execution_count": null,
      "metadata": {
        "id": "Ycxxx6js0xVP"
      },
      "outputs": [],
      "source": [
        "api_endpoint = 'https://nwm-api-kmarkert-test-jxw7jm8.uc.gateway.dev/forecast_records'\n",
        "\n",
        "api_key = 'YOUR_API_KEY'"
      ]
    },
    {
      "cell_type": "code",
      "execution_count": null,
      "metadata": {
        "id": "EGTt1-At05fy"
      },
      "outputs": [],
      "source": [
        "header = {\n",
        "    'x-api-key': api_key\n",
        "}\n",
        "\n",
        "params = {\n",
        "    'forecast_type': 'long_range',\n",
        "    'reference_time': reference_time,\n",
        "    'ensemble': ensemble_member-1,\n",
        "    'comids': reach_id,\n",
        "    'output_format': 'csv'\n",
        "}"
      ]
    },
    {
      "cell_type": "code",
      "execution_count": null,
      "metadata": {
        "id": "MO94NZ851DzI"
      },
      "outputs": [],
      "source": [
        "def get_api():\n",
        "    r = requests.get(api_endpoint, params=params, headers=header)\n",
        "    return pd.read_csv(StringIO(r.text))"
      ]
    },
    {
      "cell_type": "code",
      "execution_count": null,
      "metadata": {
        "id": "KsTWw4HP1ITD"
      },
      "outputs": [],
      "source": [
        "api_times = timeit.repeat(get_api, number=1, repeat=repeat)"
      ]
    },
    {
      "cell_type": "markdown",
      "metadata": {
        "id": "jIrYC3yvygqI"
      },
      "source": [
        "## BigQuery"
      ]
    },
    {
      "cell_type": "code",
      "execution_count": null,
      "metadata": {
        "id": "gqFaNztkyid8"
      },
      "outputs": [],
      "source": [
        "from google.cloud.bigquery import Client, QueryJobConfig"
      ]
    },
    {
      "cell_type": "code",
      "execution_count": null,
      "metadata": {
        "id": "W7gycbSwyt0R"
      },
      "outputs": [],
      "source": [
        "# initialize the Big Query client for submitting jobs\n",
        "client = Client(project='ciroh-water-demo')\n",
        "job_config = QueryJobConfig(use_query_cache=False)"
      ]
    },
    {
      "cell_type": "code",
      "execution_count": null,
      "metadata": {
        "id": "SvDapBnC_IpU"
      },
      "outputs": [],
      "source": [
        "def get_bq():\n",
        "    # define the query to get the forecast\n",
        "    query = f\"\"\"\n",
        "    SELECT\n",
        "        time,\n",
        "        streamflow,\n",
        "        velocity,\n",
        "        feature_id\n",
        "    FROM\n",
        "        `ciroh-water-demo.national_water_model_demo.channel_rt_long_range`\n",
        "    WHERE\n",
        "        feature_id = {reach_id}\n",
        "        AND reference_time = '{reference_time}'\n",
        "        AND ensemble = {ensemble_member-1}\n",
        "    ORDER BY\n",
        "        time\n",
        "    \"\"\"\n",
        "    # submit the BQ job and load as a pandas dataframe\n",
        "    job = client.query(query, job_config=job_config)\n",
        "    return job.to_dataframe()"
      ]
    },
    {
      "cell_type": "code",
      "execution_count": null,
      "metadata": {
        "id": "83SeBZgqEY4U"
      },
      "outputs": [],
      "source": [
        "%time streamflow_bq = get_bq()"
      ]
    },
    {
      "cell_type": "code",
      "execution_count": null,
      "metadata": {
        "id": "9Mrw7pMYEgo4"
      },
      "outputs": [],
      "source": [
        "streamflow_bq"
      ]
    },
    {
      "cell_type": "code",
      "execution_count": null,
      "metadata": {
        "id": "wNGOl_5x_P90"
      },
      "outputs": [],
      "source": [
        "bq_times = timeit.repeat(get_bq, number=1, repeat=repeat)"
      ]
    },
    {
      "cell_type": "markdown",
      "metadata": {
        "id": "nQuN7vxnAVmS"
      },
      "source": [
        "## Plot results"
      ]
    },
    {
      "cell_type": "code",
      "execution_count": null,
      "metadata": {
        "id": "yn9zBC2Y_duC"
      },
      "outputs": [],
      "source": [
        "import matplotlib.pyplot as plt"
      ]
    },
    {
      "cell_type": "code",
      "execution_count": null,
      "metadata": {
        "id": "LoKtjDjMAdb-"
      },
      "outputs": [],
      "source": [
        "data =[\n",
        "    np.mean(duckdb_times),\n",
        "    np.mean(kerchunk_times),\n",
        "    np.mean(bq_times)\n",
        "]\n",
        "\n",
        "data_std = [\n",
        "    np.std(duckdb_times),\n",
        "    np.std(kerchunk_times),\n",
        "    np.std(bq_times)\n",
        "]"
      ]
    },
    {
      "cell_type": "code",
      "execution_count": null,
      "metadata": {
        "id": "DRZLJWErB5yO"
      },
      "outputs": [],
      "source": [
        "fig, ax = plt.subplots()\n",
        "ax.bar(range(0,3),data,yerr=data_std)\n",
        "ax.set_xticks(range(3))\n",
        "ax.set_xticklabels(['DuckDB/Parquet', 'xarray/netCDF', 'BigQuery'], rotation=30)\n",
        "ax.set_ylabel('Response time [s]')"
      ]
    },
    {
      "cell_type": "code",
      "execution_count": null,
      "metadata": {
        "id": "m1BLjdNSpI8i"
      },
      "outputs": [],
      "source": [
        "result_df = pd.DataFrame({\n",
        "    'duckdb': duckdb_times,\n",
        "    'kerchunk': kerchunk_times,\n",
        "    'bq': bq_times,\n",
        "    'netcdf': netcdf_times,\n",
        "    'api': api_times\n",
        "})"
      ]
    },
    {
      "cell_type": "code",
      "execution_count": null,
      "metadata": {
        "id": "LP4qzOHOpN23"
      },
      "outputs": [],
      "source": [
        "result_df"
      ]
    },
    {
      "cell_type": "code",
      "execution_count": null,
      "metadata": {
        "id": "obk_G18OkLCb"
      },
      "outputs": [],
      "source": []
    }
  ],
  "metadata": {
    "colab": {
      "collapsed_sections": [
        "z2RfF_YjHJdr"
      ],
      "private_outputs": true,
      "provenance": []
    },
    "kernelspec": {
      "display_name": "Python 3",
      "name": "python3"
    },
    "language_info": {
      "name": "python"
    }
  },
  "nbformat": 4,
  "nbformat_minor": 0
}
